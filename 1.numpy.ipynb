{
 "cells": [
  {
   "cell_type": "code",
   "execution_count": 1,
   "metadata": {},
   "outputs": [],
   "source": [
    "import numpy as np"
   ]
  },
  {
   "cell_type": "code",
   "execution_count": 2,
   "metadata": {},
   "outputs": [
    {
     "name": "stdout",
     "output_type": "stream",
     "text": [
      "[1 2 3 4 5]\n",
      "[[1 2 3]\n",
      " [4 5 6]\n",
      " [7 8 9]]\n"
     ]
    }
   ],
   "source": [
    "# Creating 1-D array\n",
    "x = np.array([1, 2, 3, 4, 5])\n",
    "print(x)\n",
    "\n",
    "# Creating 2-D array\n",
    "y = np.array([[1, 2, 3],[4, 5, 6],[7, 8, 9]])\n",
    "print(y)"
   ]
  },
  {
   "cell_type": "markdown",
   "metadata": {},
   "source": [
    "### How to make float type array?"
   ]
  },
  {
   "cell_type": "code",
   "execution_count": 4,
   "metadata": {},
   "outputs": [
    {
     "name": "stdout",
     "output_type": "stream",
     "text": [
      "[[1. 2. 3.]\n",
      " [4. 5. 6.]\n",
      " [7. 8. 9.]]\n"
     ]
    }
   ],
   "source": [
    "z = np.array([[1, 2, 3],[4, 5, 6],[7, 8, 9]], dtype=float)\n",
    "print(z)"
   ]
  },
  {
   "cell_type": "markdown",
   "metadata": {},
   "source": [
    "### Initial Placeholder in NUMPY"
   ]
  },
  {
   "cell_type": "code",
   "execution_count": 19,
   "metadata": {},
   "outputs": [
    {
     "name": "stdout",
     "output_type": "stream",
     "text": [
      "[[0. 0. 0.]\n",
      " [0. 0. 0.]\n",
      " [0. 0. 0.]]\n"
     ]
    }
   ],
   "source": [
    "# creating array of zeros\n",
    "a = np.zeros((3, 3))\n",
    "print(a)"
   ]
  },
  {
   "cell_type": "code",
   "execution_count": 18,
   "metadata": {},
   "outputs": [
    {
     "name": "stdout",
     "output_type": "stream",
     "text": [
      "[[1. 1. 1.]\n",
      " [1. 1. 1.]\n",
      " [1. 1. 1.]]\n"
     ]
    }
   ],
   "source": [
    "# creating array of ones\n",
    "b = np.ones((3, 3))\n",
    "print(b)"
   ]
  },
  {
   "cell_type": "code",
   "execution_count": 20,
   "metadata": {},
   "outputs": [
    {
     "name": "stdout",
     "output_type": "stream",
     "text": [
      "[[7. 7. 7.]\n",
      " [7. 7. 7.]\n",
      " [7. 7. 7.]]\n"
     ]
    }
   ],
   "source": [
    "# creating array of particular values(constant)\n",
    "c = np.full((3, 3), 7, dtype=float)\n",
    "print(c)"
   ]
  },
  {
   "cell_type": "code",
   "execution_count": 21,
   "metadata": {},
   "outputs": [
    {
     "name": "stdout",
     "output_type": "stream",
     "text": [
      "[[1. 0. 0.]\n",
      " [0. 1. 0.]\n",
      " [0. 0. 1.]]\n"
     ]
    }
   ],
   "source": [
    "# Create an identity matrix\n",
    "d = np.eye(3)\n",
    "print(d)"
   ]
  },
  {
   "cell_type": "code",
   "execution_count": 25,
   "metadata": {},
   "outputs": [
    {
     "name": "stdout",
     "output_type": "stream",
     "text": [
      "[[0.54049367 0.806111   0.02397783]\n",
      " [0.35319365 0.5933259  0.7490306 ]\n",
      " [0.37790697 0.08347652 0.9597757 ]]\n",
      "[[58 94 70]\n",
      " [69 52 24]\n",
      " [28 99 73]]\n"
     ]
    }
   ],
   "source": [
    "# Create an array with random values\n",
    "e = np.random.random((3, 3))\n",
    "print(e)\n",
    "\n",
    "# create a random integer between 10 to 100\n",
    "f = np.random.randint(10, 100, size=(3, 3))\n",
    "print(f)"
   ]
  },
  {
   "cell_type": "code",
   "execution_count": 34,
   "metadata": {},
   "outputs": [
    {
     "name": "stdout",
     "output_type": "stream",
     "text": [
      "[10. 15. 20. 25. 30.]\n",
      "[10 15 20 25]\n"
     ]
    }
   ],
   "source": [
    "# create an array of evenly spaced values --> specifying the number of values required\n",
    "g = np.linspace(10, 30, 5)\n",
    "print(g)\n",
    "\n",
    "# create an array of evenly spaced values --> specifying the number of steps\n",
    "h = np.arange(10, 30, 5)\n",
    "print(h)"
   ]
  },
  {
   "cell_type": "markdown",
   "metadata": {},
   "source": [
    "### Convert list to numpy array..."
   ]
  },
  {
   "cell_type": "code",
   "execution_count": 38,
   "metadata": {},
   "outputs": [
    {
     "name": "stdout",
     "output_type": "stream",
     "text": [
      "<class 'numpy.ndarray'>\n",
      "<class 'numpy.ndarray'>\n"
     ]
    }
   ],
   "source": [
    "my_list = [1, 2, 3, 4, 5]\n",
    "\n",
    "my_array1 = np.array(my_list)\n",
    "my_array2 = np.asarray(my_list)\n",
    "\n",
    "print(type(my_array1))\n",
    "print(type(my_array2))\n"
   ]
  },
  {
   "cell_type": "markdown",
   "metadata": {},
   "source": [
    "### Analysing numpy array"
   ]
  },
  {
   "cell_type": "code",
   "execution_count": 46,
   "metadata": {},
   "outputs": [
    {
     "name": "stdout",
     "output_type": "stream",
     "text": [
      "[[3 5 7 2 9]\n",
      " [3 5 3 7 4]\n",
      " [2 2 3 9 1]\n",
      " [2 6 1 3 2]\n",
      " [7 1 2 1 7]]\n",
      "Array shape : (5, 5)\n",
      "Array Dimension : 2\n",
      "Number of element in the array : 25\n",
      "Data type of the array : int32\n"
     ]
    }
   ],
   "source": [
    "x = np.random.randint(1, 10, size=(5, 5))\n",
    "print(x)\n",
    "\n",
    "print(f\"Array shape : {x.shape}\")\n",
    "print(f\"Array Dimension : {x.ndim}\")\n",
    "print(f\"Number of element in the array : {x.size}\")\n",
    "print(f\"Data type of the array : {x.dtype}\")"
   ]
  },
  {
   "cell_type": "markdown",
   "metadata": {},
   "source": [
    "### Mathematical Operations"
   ]
  },
  {
   "cell_type": "code",
   "execution_count": 58,
   "metadata": {},
   "outputs": [
    {
     "name": "stdout",
     "output_type": "stream",
     "text": [
      "Array a = \n",
      "[[9 1 6]\n",
      " [9 6 2]\n",
      " [5 8 9]]\n",
      "\n",
      "Array b = \n",
      "[[4 2 9]\n",
      " [4 9 8]\n",
      " [6 4 6]]\n",
      "\n",
      "Sum of array a and b = \n",
      "[[13  3 15]\n",
      " [13 15 10]\n",
      " [11 12 15]]\n",
      "\n",
      "Subtraction of array a and b = \n",
      "[[ 5 -1 -3]\n",
      " [ 5 -3 -6]\n",
      " [-1  4  3]]\n",
      "\n",
      "Multiplication of array a and b = \n",
      "[[36  2 54]\n",
      " [36 54 16]\n",
      " [30 32 54]]\n",
      "\n",
      "Division of array a and b = \n",
      "[[2.25       0.5        0.66666667]\n",
      " [2.25       0.66666667 0.25      ]\n",
      " [0.83333333 2.         1.5       ]]\n"
     ]
    }
   ],
   "source": [
    "# Let's do addition on the Array\n",
    "a = np.random.randint(1, 10, size=(3, 3))\n",
    "b = np.random.randint(1, 10, size=(3, 3))\n",
    "\n",
    "print(f\"Array a = \\n{a}\\n\\nArray b = \\n{b}\")\n",
    "\n",
    "print(f\"\\nSum of array a and b = \\n{a+b}\")\n",
    "print(f\"\\nSubtraction of array a and b = \\n{a-b}\")\n",
    "print(f\"\\nMultiplication of array a and b = \\n{a*b}\")\n",
    "print(f\"\\nDivision of array a and b = \\n{a/b}\")\n"
   ]
  },
  {
   "cell_type": "code",
   "execution_count": 60,
   "metadata": {},
   "outputs": [
    {
     "name": "stdout",
     "output_type": "stream",
     "text": [
      "Array a = \n",
      "[[2 8 9]\n",
      " [4 3 1]\n",
      " [2 4 9]]\n",
      "\n",
      "Array b = \n",
      "[[8 1 9]\n",
      " [1 5 3]\n",
      " [2 5 2]]\n",
      "[[10  9 18]\n",
      " [ 5  8  4]\n",
      " [ 4  9 11]]\n",
      "[[-6  7  0]\n",
      " [ 3 -2 -2]\n",
      " [ 0 -1  7]]\n",
      "[[16  8 81]\n",
      " [ 4 15  3]\n",
      " [ 4 20 18]]\n",
      "[[0.25       8.         1.        ]\n",
      " [4.         0.6        0.33333333]\n",
      " [1.         0.8        4.5       ]]\n"
     ]
    }
   ],
   "source": [
    "# Other ways for doing array operations\n",
    "a = np.random.randint(1, 10, size=(3, 3))\n",
    "b = np.random.randint(1, 10, size=(3, 3))\n",
    "\n",
    "print(f\"Array a = \\n{a}\\n\\nArray b = \\n{b}\")\n",
    "\n",
    "print(np.add(a, b))\n",
    "print(np.subtract(a, b))\n",
    "print(np.multiply(a, b))\n",
    "print(np.divide(a, b))\n"
   ]
  },
  {
   "cell_type": "markdown",
   "metadata": {},
   "source": [
    "### Array Manipulation"
   ]
  },
  {
   "cell_type": "code",
   "execution_count": 63,
   "metadata": {},
   "outputs": [
    {
     "name": "stdout",
     "output_type": "stream",
     "text": [
      "[[8 8 3]\n",
      " [9 3 8]]\n",
      "[[8 9]\n",
      " [8 3]\n",
      " [3 8]]\n",
      "[[8 9]\n",
      " [8 3]\n",
      " [3 8]]\n"
     ]
    }
   ],
   "source": [
    "array = np.random.randint(1, 10, size=(2, 3))\n",
    "print(array)\n",
    "\n",
    "# Taking transpose\n",
    "trans = np.transpose(array)\n",
    "print(trans)\n",
    "\n",
    "# Or\n",
    "print(array.T)\n"
   ]
  },
  {
   "cell_type": "code",
   "execution_count": 64,
   "metadata": {},
   "outputs": [
    {
     "name": "stdout",
     "output_type": "stream",
     "text": [
      "[[4 4]\n",
      " [1 3]\n",
      " [2 7]]\n",
      "[[4 4 1]\n",
      " [3 2 7]]\n"
     ]
    }
   ],
   "source": [
    "# Reshape the array\n",
    "array = np.random.randint(1, 10, size=(3, 2))\n",
    "print(array)\n",
    "\n",
    "reshape = np.reshape(array, (2, 3))\n",
    "print(reshape)"
   ]
  }
 ],
 "metadata": {
  "kernelspec": {
   "display_name": "venv",
   "language": "python",
   "name": "python3"
  },
  "language_info": {
   "codemirror_mode": {
    "name": "ipython",
    "version": 3
   },
   "file_extension": ".py",
   "mimetype": "text/x-python",
   "name": "python",
   "nbconvert_exporter": "python",
   "pygments_lexer": "ipython3",
   "version": "3.12.4"
  }
 },
 "nbformat": 4,
 "nbformat_minor": 2
}
